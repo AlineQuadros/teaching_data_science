{
 "cells": [
  {
   "cell_type": "markdown",
   "metadata": {},
   "source": [
    "# <center>Predictive modelling with timeseries</center>\n",
    "# <center> Part 3 - Time series forecasting with ARIMA models</center>\n",
    "\n",
    "![Image](images/timeseries.jpg)"
   ]
  },
  {
   "cell_type": "markdown",
   "metadata": {},
   "source": [
    "# Time series forecasting with ARIMA models\n",
    "\n",
    "Very robust family of parametric models that can handle time series data with many combinations of properties.\n",
    "ARIMA models have three components, the `AR` autoregressive, the `I` integrated, and `MA` moving average. the notation is put together as `ARIMA(p, d, q)`.\n"
   ]
  },
  {
   "cell_type": "markdown",
   "metadata": {},
   "source": [
    "![Image](images/arima.png) "
   ]
  },
  {
   "cell_type": "code",
   "execution_count": null,
   "metadata": {},
   "outputs": [],
   "source": [
    "import os\n",
    "import numpy as np\n",
    "import pandas as pd\n",
    "import matplotlib.pyplot as plt\n",
    "# jupyter lab configs\n",
    "from IPython.core.interactiveshell import InteractiveShell\n",
    "InteractiveShell.ast_node_interactivity = \"all\"\n",
    "\n",
    "import plotly\n",
    "import plotly.express as px\n",
    "import plotly.graph_objects as go\n",
    "from plotly.subplots import make_subplots\n",
    "plotly.offline.init_notebook_mode(connected=True)\n",
    "\n",
    "from utils import adf_test\n",
    "from utils import print_errors"
   ]
  },
  {
   "cell_type": "code",
   "execution_count": null,
   "metadata": {},
   "outputs": [],
   "source": [
    "from statsmodels.tsa.arima.model import ARIMA, ARIMAResults\n",
    "from statsmodels.tsa.statespace.sarimax import SARIMAX\n",
    "from statsmodels.graphics.tsaplots import plot_acf,plot_pacf\n",
    "from pmdarima import auto_arima # on order to determine ARIMA orders\n",
    "from statsmodels.tsa.stattools import adfuller"
   ]
  },
  {
   "cell_type": "code",
   "execution_count": null,
   "metadata": {},
   "outputs": [],
   "source": [
    "import pmdarima\n",
    "pmdarima.__version__\n",
    "plotly.__version__"
   ]
  },
  {
   "cell_type": "code",
   "execution_count": null,
   "metadata": {},
   "outputs": [],
   "source": [
    "import statsmodels\n",
    "statsmodels.__version__"
   ]
  },
  {
   "cell_type": "markdown",
   "metadata": {},
   "source": [
    "# ETL"
   ]
  },
  {
   "cell_type": "markdown",
   "metadata": {},
   "source": [
    "### Load the datasets  (Production of electrical equipments)"
   ]
  },
  {
   "cell_type": "code",
   "execution_count": null,
   "metadata": {},
   "outputs": [],
   "source": [
    "# load a nice example for decomposition - production of electrical equipments\n",
    "ele_df = pd.read_csv('datasets/elecequip.csv')\n",
    "ele_df['value'].plot()"
   ]
  },
  {
   "cell_type": "markdown",
   "metadata": {},
   "source": [
    "---"
   ]
  },
  {
   "cell_type": "markdown",
   "metadata": {},
   "source": [
    "### Split train and test"
   ]
  },
  {
   "cell_type": "code",
   "execution_count": null,
   "metadata": {},
   "outputs": [],
   "source": [
    "train = ele_df.loc[:150, 'value']\n",
    "test = ele_df.loc[150:, 'value']\n",
    "test_start = 150\n",
    "test_end = 194"
   ]
  },
  {
   "cell_type": "markdown",
   "metadata": {},
   "source": [
    "## Create baseline and check model performance"
   ]
  },
  {
   "cell_type": "code",
   "execution_count": null,
   "metadata": {},
   "outputs": [],
   "source": []
  },
  {
   "cell_type": "code",
   "execution_count": null,
   "metadata": {},
   "outputs": [],
   "source": []
  },
  {
   "cell_type": "markdown",
   "metadata": {},
   "source": [
    "---"
   ]
  },
  {
   "cell_type": "markdown",
   "metadata": {},
   "source": [
    "# Auto-regressive `ARIMA` family of models"
   ]
  },
  {
   "cell_type": "markdown",
   "metadata": {},
   "source": [
    "### Is the series  `stationary`?"
   ]
  },
  {
   "cell_type": "code",
   "execution_count": null,
   "metadata": {},
   "outputs": [],
   "source": [
    "adf_test(train)"
   ]
  },
  {
   "cell_type": "code",
   "execution_count": null,
   "metadata": {},
   "outputs": [],
   "source": [
    "train.plot()"
   ]
  },
  {
   "cell_type": "markdown",
   "metadata": {},
   "source": [
    "## 1. Using the method `ARIMA(train_data, order=(p, d, q))` for **trend**"
   ]
  },
  {
   "cell_type": "code",
   "execution_count": null,
   "metadata": {
    "scrolled": true,
    "tags": []
   },
   "outputs": [],
   "source": [
    "# Fit an ARIMA model with p=1, d=1, and q=1\n",
    "arma_model = ARIMA(train, order=(1,1,1))\n",
    "results1_1 = arma_model.fit()\n",
    "results1_1.summary()"
   ]
  },
  {
   "cell_type": "code",
   "execution_count": null,
   "metadata": {
    "scrolled": true
   },
   "outputs": [],
   "source": [
    "# Fit an ARIMA model with p=2, d=1, and q=2\n",
    "\n",
    "arma_model = ARIMA(train, order=(2,1,2))\n",
    "results2_2 = arma_model.fit()\n",
    "results2_2.summary()"
   ]
  },
  {
   "cell_type": "code",
   "execution_count": null,
   "metadata": {
    "scrolled": true
   },
   "outputs": [],
   "source": [
    "# Fit an ARIMA model with p=1, d=1, and q=2\n",
    "\n",
    "arma_model = ARIMA(train, order=(1,1,2))\n",
    "results1_2 = arma_model.fit()\n",
    "results1_2.summary()"
   ]
  },
  {
   "cell_type": "code",
   "execution_count": null,
   "metadata": {
    "scrolled": true
   },
   "outputs": [],
   "source": [
    "# Fit an ARIMA model with p=2, d=1, and q=1\n",
    "\n",
    "arma_model = ARIMA(train, order=(2,1,1))\n",
    "results2_1 = arma_model.fit()\n",
    "results2_1.summary().tables[0]"
   ]
  },
  {
   "cell_type": "code",
   "execution_count": null,
   "metadata": {
    "scrolled": true
   },
   "outputs": [],
   "source": [
    "arma_model2 = ARIMA(train, order=(1,1,1))\n",
    "results2_1 = arma_model2.fit()\n",
    "results2_1.summary().tables[0]"
   ]
  },
  {
   "cell_type": "markdown",
   "metadata": {},
   "source": [
    "Let's predict for the test interval:"
   ]
  },
  {
   "cell_type": "code",
   "execution_count": null,
   "metadata": {},
   "outputs": [],
   "source": [
    "predictions1 = results1_1.predict(start=test_start, end=test_end).rename('ARMA(1,1) Predictions')\n",
    "predictions2 = results2_2.predict(start=test_start, end=test_end).rename('ARMA(2,2) Predictions')\n",
    "predictions3 = results1_2.predict(start=test_start, end=test_end).rename('ARMA(1,2) Predictions')\n",
    "predictions4 = results2_1.predict(start=test_start, end=test_end).rename('ARMA(2,1) Predictions')"
   ]
  },
  {
   "cell_type": "markdown",
   "metadata": {},
   "source": [
    "### How does it look?"
   ]
  },
  {
   "cell_type": "code",
   "execution_count": null,
   "metadata": {
    "scrolled": true,
    "tags": []
   },
   "outputs": [],
   "source": [
    "ylabel='Demand'\n",
    "ax = train.plot(legend=True,figsize=(12,6),title='Prediction of equiment demand')\n",
    "test.plot(legend=True)\n",
    "predictions1.plot(legend=True)\n",
    "predictions2.plot(legend=True)\n",
    "predictions3.plot(legend=True)\n",
    "predictions4.plot(legend=True)\n",
    "ax.autoscale(axis='x',tight=True)\n",
    "ax.set(xlabel=\"\", ylabel=ylabel)"
   ]
  },
  {
   "cell_type": "markdown",
   "metadata": {},
   "source": [
    "Did you notice the change in shape of predictions when we increase the AR component to 5?"
   ]
  },
  {
   "cell_type": "markdown",
   "metadata": {
    "tags": []
   },
   "source": [
    "# Wait a minute!  \n",
    "## Do we have to try out and plot all possible combinations of (p, d, q)?\n",
    "![Image](images/boring.jpg) \n",
    "\n",
    "## Luckly not.   \n",
    "\n",
    "### Using AIC and a stewise routine `auto_arima()` made available in library `pmdarima`, we can find the best (p, d, q) for the data\n",
    "\n",
    "💡 **Check also:** you can check this very nice implementation of a **grid search** of ARIMA models:\n",
    "[https://machinelearningmastery.com/how-to-grid-search-sarima-model-hyperparameters-for-time-series-forecasting-in-python/]"
   ]
  },
  {
   "cell_type": "markdown",
   "metadata": {},
   "source": [
    "# Stepwise ARIMA or SARIMA with `auto_arima()`\n",
    "\n",
    "The function `auto_arima()` will fit different combinations of the orders of (p, d, q) and select the best based on the **lowest AIC**. You can indicate a seasonal model (SARIMA) if you set `seasonal=True` and change `m` to integer>1."
   ]
  },
  {
   "cell_type": "code",
   "execution_count": null,
   "metadata": {},
   "outputs": [],
   "source": [
    "best_model = auto_arima(train, suppress_warnings=True, \n",
    "                        random=False, start_p=0, start_q=0, \n",
    "                        stepwise=False,\n",
    "                        random_state=42, m=12)\n",
    "best_model.summary()"
   ]
  },
  {
   "cell_type": "code",
   "execution_count": null,
   "metadata": {},
   "outputs": [],
   "source": [
    "best_model = auto_arima(train, suppress_warnings=True, \n",
    "                        random=False, start_p=0, start_q=0, \n",
    "                        stepwise=False,\n",
    "                        random_state=42)\n",
    "best_model.summary()"
   ]
  },
  {
   "cell_type": "markdown",
   "metadata": {},
   "source": [
    "### What does it mean? "
   ]
  },
  {
   "cell_type": "markdown",
   "metadata": {},
   "source": [
    "The `auto_arima` is telling us that the best model (= lowest AIC) to treat these data is a \n",
    "> ARIMA(2, 1, 3) \n",
    "\n",
    "*p.s. An SARIMAX or SARIMA without a (P,D,Q)m component is the equivalent of an ARIMA*"
   ]
  },
  {
   "cell_type": "markdown",
   "metadata": {
    "tags": []
   },
   "source": [
    "## How is the forecasting looking like in the `test` data?"
   ]
  },
  {
   "cell_type": "code",
   "execution_count": null,
   "metadata": {
    "scrolled": true
   },
   "outputs": [],
   "source": [
    "best_model = ARIMA(train, order=(2,1,3))\n",
    "results = best_model.fit()\n",
    "\n",
    "# predict\n",
    "predictions = results.predict(start=test_start, \n",
    "                              end=test_end, \n",
    "                              dynamic=False, \n",
    "                              typ='levels').rename('SARIMAX(2,1,3) Predictions')"
   ]
  },
  {
   "cell_type": "code",
   "execution_count": null,
   "metadata": {},
   "outputs": [],
   "source": [
    "fig = px.line(test, title=\"Equipment demand - test data and predictions\",  width=900, height=500)\n",
    "fig = fig.add_trace(go.Line(x=test.index, y=predictions,\n",
    "                    mode='lines', name='ARIMA model'))\n",
    "fig.show()"
   ]
  },
  {
   "cell_type": "markdown",
   "metadata": {},
   "source": [
    "## Model evaluation:"
   ]
  },
  {
   "cell_type": "code",
   "execution_count": null,
   "metadata": {},
   "outputs": [],
   "source": [
    "print_errors(test, predictions, 'Test set')"
   ]
  },
  {
   "cell_type": "markdown",
   "metadata": {},
   "source": [
    "----"
   ]
  },
  {
   "cell_type": "markdown",
   "metadata": {},
   "source": [
    "### Can we improve our predictions?\n",
    "# 2. Adding the seasonal component (SARIMA)"
   ]
  },
  {
   "cell_type": "code",
   "execution_count": null,
   "metadata": {
    "tags": []
   },
   "outputs": [],
   "source": [
    "best_model = auto_arima(train, suppress_warnings=True, start_p=0, start_q=0, m=12)\n",
    "best_model.summary()"
   ]
  },
  {
   "cell_type": "code",
   "execution_count": null,
   "metadata": {},
   "outputs": [],
   "source": [
    "best_model = SARIMAX(train, order=(5,0,1), seasonal_order=(2,1,1,12))\n",
    "results = best_model.fit()\n",
    "\n",
    "# predict\n",
    "predictions = results.predict(start=test_start, end=test_end, \n",
    "                              dynamic=False, typ='levels').rename('SARIMAX Predictions')\n",
    "print_errors(test, predictions, 'Test set')"
   ]
  },
  {
   "cell_type": "code",
   "execution_count": null,
   "metadata": {},
   "outputs": [],
   "source": [
    "results.summary()"
   ]
  },
  {
   "cell_type": "code",
   "execution_count": null,
   "metadata": {},
   "outputs": [],
   "source": [
    "fig = px.line(test, title=\"Equipment demand - test data and predictions\",  width=900, height=500)\n",
    "fig = fig.add_trace(go.Line(x=test.index, y=predictions,\n",
    "                    mode='lines', name='SARIMAX'))\n",
    "fig.show()"
   ]
  },
  {
   "cell_type": "markdown",
   "metadata": {},
   "source": [
    "---"
   ]
  },
  {
   "cell_type": "markdown",
   "metadata": {},
   "source": [
    "# Working with regressors - SARIMA**x**"
   ]
  },
  {
   "cell_type": "code",
   "execution_count": null,
   "metadata": {},
   "outputs": [],
   "source": [
    "# training data\n",
    "rossman_df = pd.read_csv('datasets/rossman_train.csv').reset_index(drop=True)\n",
    "# set the index to the time column\n",
    "rossman_df.Date = pd.to_datetime(rossman_df.Date)\n",
    "\n",
    "# load store info\n",
    "stores = pd.read_csv('datasets/rossman_store.csv').reset_index(drop=True)\n",
    "\n",
    "# merge store and sales\n",
    "rossman_df = pd.merge(rossman_df, stores, how='left', on='Store')\n",
    "rossman_df = rossman_df[rossman_df.Store==1]\n",
    "\n",
    "rossman_df.set_index('Date', drop=True, inplace=True)\n",
    "rossman_df.head(4)"
   ]
  },
  {
   "cell_type": "markdown",
   "metadata": {},
   "source": [
    "## Basic demonstration of the library usage\n",
    "We need to add several polishing steps"
   ]
  },
  {
   "cell_type": "code",
   "execution_count": null,
   "metadata": {},
   "outputs": [],
   "source": [
    "# Fit a model without any extra regressors\n",
    "mod = SARIMAX(rossman_df.Sales, order=(2,1,2), seasonal_order=(1,1,1,7))\n",
    "res = mod.fit(disp=False)\n",
    "print(res.summary())"
   ]
  },
  {
   "cell_type": "code",
   "execution_count": null,
   "metadata": {},
   "outputs": [],
   "source": [
    "# add timeseries (endog) and regressors (exog)\n",
    "endog = rossman_df.Sales\n",
    "exog = rossman_df.Customers\n",
    "\n",
    "# Fit the model\n",
    "mod2 = SARIMAX(endog, exog, order=(2,1,1), seasonal_order=(1,1,1,7))\n",
    "res = mod2.fit(disp=False)\n",
    "print(res.summary())"
   ]
  },
  {
   "cell_type": "markdown",
   "metadata": {},
   "source": [
    "---"
   ]
  },
  {
   "cell_type": "markdown",
   "metadata": {},
   "source": [
    "<a href='https://www.freepik.com/vectors/business'>Business vector created by freepik - www.freepik.com</a>"
   ]
  }
 ],
 "metadata": {
  "kernelspec": {
   "display_name": "Python 3 (ipykernel)",
   "language": "python",
   "name": "python3"
  },
  "language_info": {
   "codemirror_mode": {
    "name": "ipython",
    "version": 3
   },
   "file_extension": ".py",
   "mimetype": "text/x-python",
   "name": "python",
   "nbconvert_exporter": "python",
   "pygments_lexer": "ipython3",
   "version": "3.9.15"
  }
 },
 "nbformat": 4,
 "nbformat_minor": 4
}
