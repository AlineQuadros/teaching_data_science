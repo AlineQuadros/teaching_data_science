{
 "cells": [
  {
   "cell_type": "markdown",
   "metadata": {},
   "source": [
    "# <center> Predictive modelling with timeseries</center>\n",
    "# <center> Part 4 - Time series forecasting with Facebook's Prophet</center>\n",
    "\n",
    "![Image](images/timeseries.jpg)"
   ]
  },
  {
   "cell_type": "code",
   "execution_count": null,
   "metadata": {},
   "outputs": [],
   "source": [
    "import os\n",
    "import numpy as np\n",
    "import pandas as pd\n",
    "import matplotlib.pyplot as plt\n",
    "# jupyter lab configs\n",
    "from IPython.core.interactiveshell import InteractiveShell\n",
    "InteractiveShell.ast_node_interactivity = \"all\"\n",
    "\n",
    "import plotly\n",
    "import plotly.express as px\n",
    "import plotly.graph_objects as go\n",
    "from plotly.subplots import make_subplots\n",
    "plotly.offline.init_notebook_mode(connected=True)\n",
    "\n",
    "from utils import print_errors\n",
    "from fbprophet import Prophet\n",
    "from fbprophet.plot import plot_plotly, plot_components_plotly, add_changepoints_to_plot"
   ]
  },
  {
   "cell_type": "markdown",
   "metadata": {},
   "source": [
    "# Exercise: Cryptocurrency value prediction"
   ]
  },
  {
   "cell_type": "markdown",
   "metadata": {},
   "source": [
    "# ETL"
   ]
  },
  {
   "cell_type": "markdown",
   "metadata": {},
   "source": [
    "### Load the datasets"
   ]
  },
  {
   "cell_type": "code",
   "execution_count": null,
   "metadata": {},
   "outputs": [],
   "source": [
    "bc = pd.read_csv('datasets/crypto.csv', decimal=\".\").reset_index(drop=True)\n",
    "bc.Date = pd.to_datetime(bc.Date)\n",
    "bc.sort_values('Date', inplace=True)\n",
    "bc.head()\n",
    "\"min max date\"\n",
    "bc.Date.min(), bc.Date.max() \n",
    "\"min max price\"\n",
    "bc.Price.min(), bc.Price.max() "
   ]
  },
  {
   "cell_type": "code",
   "execution_count": null,
   "metadata": {},
   "outputs": [],
   "source": [
    "bc.info()"
   ]
  },
  {
   "cell_type": "markdown",
   "metadata": {},
   "source": [
    "### `NOTE` the Prophet requires that datetime is named `ds` and the target is named `y`"
   ]
  },
  {
   "cell_type": "code",
   "execution_count": null,
   "metadata": {},
   "outputs": [],
   "source": [
    "bc.rename(columns={'Date': 'ds', 'Price': 'y'}, inplace=True)"
   ]
  },
  {
   "cell_type": "markdown",
   "metadata": {},
   "source": [
    "### Train-test"
   ]
  },
  {
   "cell_type": "code",
   "execution_count": null,
   "metadata": {},
   "outputs": [],
   "source": [
    "# Let's train until 2019 and test on 2020\n",
    "# split \n",
    "X_train = bc[bc.ds<='2019-12-31'][['ds', 'y']]\n",
    "X_test = bc[bc.ds>'2019-12-31'][['ds']]"
   ]
  },
  {
   "cell_type": "markdown",
   "metadata": {},
   "source": [
    "### Let's fit using the default configuration"
   ]
  },
  {
   "cell_type": "code",
   "execution_count": null,
   "metadata": {},
   "outputs": [],
   "source": [
    "# fit\n",
    "model = Prophet()\n",
    "model.fit(X_train)"
   ]
  },
  {
   "cell_type": "code",
   "execution_count": null,
   "metadata": {},
   "outputs": [],
   "source": [
    "# check the predictions for the training data\n",
    "pred_train = model.predict(X_train)\n",
    "\n",
    "# use the trained model to make a forecast\n",
    "pred_test = model.predict(X_test)"
   ]
  },
  {
   "cell_type": "code",
   "execution_count": null,
   "metadata": {},
   "outputs": [],
   "source": [
    "# check the model's output\n",
    "pred_test.head(4)"
   ]
  },
  {
   "cell_type": "markdown",
   "metadata": {},
   "source": [
    "## Plot predictions - test dataset"
   ]
  },
  {
   "cell_type": "code",
   "execution_count": null,
   "metadata": {},
   "outputs": [],
   "source": [
    "# plot forecast\n",
    "p = model.plot(pred_test)"
   ]
  },
  {
   "cell_type": "markdown",
   "metadata": {},
   "source": [
    "## Plot predictions - training dataset"
   ]
  },
  {
   "cell_type": "code",
   "execution_count": null,
   "metadata": {},
   "outputs": [],
   "source": [
    "plot_plotly(model, pred_train)"
   ]
  },
  {
   "cell_type": "code",
   "execution_count": null,
   "metadata": {},
   "outputs": [],
   "source": [
    "plot_components_plotly(model, pred_train)"
   ]
  },
  {
   "cell_type": "markdown",
   "metadata": {},
   "source": [
    "# 🤩 Perfecting the model"
   ]
  },
  {
   "cell_type": "markdown",
   "metadata": {},
   "source": [
    "# 1. Add events and holidays  \n",
    "\n",
    "One of the advantages of the Prophet is the ability to add covariates to specific dates. They can be given by you or taken *out-of-the-box* by using the package `holidays`.\n",
    "For a user-specified input, event dates must be profived for past and future, and we should make a dataframe with the following format: "
   ]
  },
  {
   "cell_type": "code",
   "execution_count": null,
   "metadata": {},
   "outputs": [],
   "source": [
    "user_events = pd.DataFrame({\n",
    "  'holiday': ['something_amazing', 'crash', 'something_amazing', 'something_amazing'],\n",
    "  'ds': pd.to_datetime(['2017-12-17', '2018-12-16', '2019-06-26', '2020-11-15']),\n",
    "  'lower_window': 0,\n",
    "  'upper_window': 0})"
   ]
  },
  {
   "cell_type": "code",
   "execution_count": null,
   "metadata": {},
   "outputs": [],
   "source": [
    "user_events"
   ]
  },
  {
   "cell_type": "code",
   "execution_count": null,
   "metadata": {},
   "outputs": [],
   "source": [
    "m3 = Prophet(holidays=user_events)\n",
    "m3.fit(X_train)\n",
    "pred_train = m3.predict(X_train)\n",
    "pred_test = m3.predict(X_test)\n",
    "fig = m3.plot(pred_test)"
   ]
  },
  {
   "cell_type": "markdown",
   "metadata": {},
   "source": [
    "### Add calendar holidays"
   ]
  },
  {
   "cell_type": "code",
   "execution_count": null,
   "metadata": {},
   "outputs": [],
   "source": [
    "m4 = Prophet()\n",
    "m4.add_country_holidays(country_name='DE')\n",
    "m4.fit(X_train)"
   ]
  },
  {
   "cell_type": "code",
   "execution_count": null,
   "metadata": {},
   "outputs": [],
   "source": [
    "# check holidays included\n",
    "m4.train_holiday_names"
   ]
  },
  {
   "cell_type": "markdown",
   "metadata": {},
   "source": [
    "# 2. Configuring the TREND "
   ]
  },
  {
   "cell_type": "markdown",
   "metadata": {},
   "source": [
    "## 1. Changepoints\n",
    "\n",
    "Prophet will use 80% of the data (by default) to identify points where the trend changed abruptly.\n",
    "We can change this value, but care must be taken as increasing it may lead to overfitting and extreme changes in the nearest predictions.\n"
   ]
  },
  {
   "cell_type": "markdown",
   "metadata": {},
   "source": [
    "### 80% changepoints"
   ]
  },
  {
   "cell_type": "code",
   "execution_count": null,
   "metadata": {},
   "outputs": [],
   "source": [
    "fig = model.plot(pred_train)\n",
    "a = add_changepoints_to_plot(fig.gca(), model, pred_train)"
   ]
  },
  {
   "cell_type": "markdown",
   "metadata": {},
   "source": [
    "### 90% changepoints"
   ]
  },
  {
   "cell_type": "code",
   "execution_count": null,
   "metadata": {},
   "outputs": [],
   "source": [
    "m9 = Prophet(changepoint_range=0.9)\n",
    "m9.fit(X_train)\n",
    "pred_train = m9.predict(X_train)\n",
    "pred_test = m9.predict(X_test)\n",
    "fig = m9.plot(pred_train)\n",
    "a = add_changepoints_to_plot(fig.gca(), m9, pred_train)"
   ]
  },
  {
   "cell_type": "markdown",
   "metadata": {},
   "source": [
    "### Manually inserting changepoints"
   ]
  },
  {
   "cell_type": "code",
   "execution_count": null,
   "metadata": {},
   "outputs": [],
   "source": [
    "m2 = Prophet(changepoints=['2017-12-16'])\n",
    "m2.fit(X_train)\n",
    "pred_train = m2.predict(X_train)\n",
    "pred_test = m2.predict(X_test)\n",
    "fig = m2.plot(pred_train)\n",
    "fig = m2.plot(pred_test)"
   ]
  },
  {
   "cell_type": "markdown",
   "metadata": {},
   "source": [
    "### Can you try adding more changepoints? What happens?"
   ]
  },
  {
   "cell_type": "code",
   "execution_count": null,
   "metadata": {},
   "outputs": [],
   "source": []
  },
  {
   "cell_type": "markdown",
   "metadata": {},
   "source": [
    "### 2. Adjusting trend scale\n",
    "\n",
    "The paramater `changepoint_prior_scale` helps to control over/underfitting. Default of model is 0.5"
   ]
  },
  {
   "cell_type": "code",
   "execution_count": null,
   "metadata": {},
   "outputs": [],
   "source": [
    "m1 = Prophet(changepoint_prior_scale=0.7)\n",
    "m1.fit(X_train)\n",
    "pred_train = m1.predict(X_train)\n",
    "pred_test = m1.predict(X_test)\n",
    "fig = m1.plot(pred_train)\n",
    "fig = m1.plot(pred_test)"
   ]
  },
  {
   "cell_type": "markdown",
   "metadata": {},
   "source": [
    "# 3. Configuring the seasonality\n",
    "\n",
    "The parameter `yearly.seasonality` let's you adjust the Fourier order that models the yearly seasonality.  \n",
    "The default is 10. Increasing it leads to increased model complexity, because N fourier terms corresponds to 2N variables used for modeling the cycle. Decreasing it leads to a smoother curve."
   ]
  },
  {
   "cell_type": "code",
   "execution_count": null,
   "metadata": {},
   "outputs": [],
   "source": [
    "m7 = Prophet(yearly_seasonality=12, weekly_seasonality=6)"
   ]
  },
  {
   "cell_type": "markdown",
   "metadata": {},
   "source": [
    "**Specifying seasonalities**  \n",
    "\n",
    "By default the Prophet will by default fit **weekly** and **yearly** seasonalities, if the time series is more than two cycles long.  \n",
    "It will also fit daily seasonality for a sub-daily time series.  \n",
    "You can add other seasonalities (monthly, quarterly, hourly) using the `add_seasonality` method:  "
   ]
  },
  {
   "cell_type": "code",
   "execution_count": null,
   "metadata": {},
   "outputs": [],
   "source": [
    "# in this example we disable weekly seasonality and add a monthly instead\n",
    "m6 = Prophet(weekly_seasonality=False)\n",
    "m6.add_seasonality(name='monthly', period=30.5, fourier_order=5)"
   ]
  },
  {
   "cell_type": "markdown",
   "metadata": {},
   "source": [
    "# 4. Add regressors \n",
    "\n",
    "what if we had more information about other factor that could have influenced the day-to-day trade of bitcoin?\n",
    "Maybe some daily economy indicator or market conditions. Any information like this would be a timeseries itself, and it can increase the model's performance. The downside is, we need to have the data available for the future. \n",
    "If we have more series to add to the dataset, they are called **regressors**."
   ]
  },
  {
   "cell_type": "code",
   "execution_count": null,
   "metadata": {},
   "outputs": [],
   "source": [
    "# Add new timeseries to the dataset and then include them in the model\n",
    "\n",
    "# Example of usage\n",
    "X_train['new_regressor'] = 2 # should be a real timeseries data\n",
    "\n",
    "m7 = Prophet()\n",
    "m7.add_regressor('new_regressor')\n",
    "m7.fit(X_train)"
   ]
  },
  {
   "cell_type": "markdown",
   "metadata": {},
   "source": [
    "# HOMEWORK"
   ]
  },
  {
   "cell_type": "markdown",
   "metadata": {},
   "source": [
    "Cover the topics **hyperparameter tuning**, **gridsearch**, **cross-validation** and **model evaluation**.\n",
    "Prophet has built-in methods for all these steps. You can start checking here: https://facebook.github.io/prophet/docs/diagnostics.html \n"
   ]
  },
  {
   "cell_type": "code",
   "execution_count": null,
   "metadata": {},
   "outputs": [],
   "source": []
  },
  {
   "cell_type": "code",
   "execution_count": null,
   "metadata": {},
   "outputs": [],
   "source": []
  },
  {
   "cell_type": "code",
   "execution_count": null,
   "metadata": {},
   "outputs": [],
   "source": []
  },
  {
   "cell_type": "code",
   "execution_count": null,
   "metadata": {},
   "outputs": [],
   "source": []
  },
  {
   "cell_type": "markdown",
   "metadata": {},
   "source": [
    "---"
   ]
  },
  {
   "cell_type": "markdown",
   "metadata": {},
   "source": [
    "<a href='https://www.freepik.com/vectors/business'>Business vector created by freepik - www.freepik.com</a>"
   ]
  }
 ],
 "metadata": {
  "kernelspec": {
   "display_name": "Python 3",
   "language": "python",
   "name": "python3"
  },
  "language_info": {
   "codemirror_mode": {
    "name": "ipython",
    "version": 3
   },
   "file_extension": ".py",
   "mimetype": "text/x-python",
   "name": "python",
   "nbconvert_exporter": "python",
   "pygments_lexer": "ipython3",
   "version": "3.6.5"
  }
 },
 "nbformat": 4,
 "nbformat_minor": 4
}
